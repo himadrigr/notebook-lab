{
 "cells": [
  {
   "cell_type": "markdown",
   "id": "0fabaa70-6f9d-4e1d-aa36-fd619ba9881e",
   "metadata": {},
   "source": [
    "# Data Science Tools and Ecosystem"
   ]
  },
  {
   "cell_type": "markdown",
   "id": "9e43dc98-cba8-4545-88fc-e2e3523c83b0",
   "metadata": {},
   "source": [
    "In this notebook, Data Science Tools and Ecosystem are summarized."
   ]
  },
  {
   "cell_type": "markdown",
   "id": "f21d2e61-6c59-4e3d-8c9a-c8ab9b1db0dc",
   "metadata": {},
   "source": [
    "Some of the popular languages that Data Scientists use are:\n",
    "\n",
    "1. Python\n",
    "2. R\n",
    "3. SQL\n",
    "4. Julia"
   ]
  },
  {
   "cell_type": "markdown",
   "id": "6643774e-3259-4ba2-aaab-b6f5d7bce5f6",
   "metadata": {},
   "source": [
    "Some of the popular languages that Data Scientists use are:\n",
    "1. Pandas\n",
    "2. Numpy\n",
    "3. Matplotlib\n",
    "4. Tensorflow"
   ]
  },
  {
   "cell_type": "markdown",
   "id": "71595e2c-9b2d-4853-bcb1-f20657fd451c",
   "metadata": {},
   "source": [
    "|Data Science Tools|\n",
    "|---|\n",
    "|SPSS|\n",
    "|Hadoop|\n",
    "|Tensorflow|\n",
    "\n"
   ]
  },
  {
   "cell_type": "markdown",
   "id": "ca733ee5-5224-4eb5-8e8e-3f394fbcb76b",
   "metadata": {},
   "source": [
    "### Below are a few examples of evaluating arithmetic expressions in Python\n"
   ]
  },
  {
   "cell_type": "code",
   "execution_count": 2,
   "id": "2445ed0a-0c5c-4e41-a67b-92556f75291f",
   "metadata": {},
   "outputs": [
    {
     "data": {
      "text/plain": [
       "17"
      ]
     },
     "execution_count": 2,
     "metadata": {},
     "output_type": "execute_result"
    }
   ],
   "source": [
    "# This a simple arithmetic expression to mutiply then add integers\n",
    "(3*4)+5"
   ]
  },
  {
   "cell_type": "code",
   "execution_count": 3,
   "id": "18da7905-5e8f-4e42-a36c-822e311e25b9",
   "metadata": {},
   "outputs": [
    {
     "data": {
      "text/plain": [
       "3.3333333333333335"
      ]
     },
     "execution_count": 3,
     "metadata": {},
     "output_type": "execute_result"
    }
   ],
   "source": [
    "# This will convert 200 minutes to hours by diving by 60\n",
    "\n",
    "200/60"
   ]
  },
  {
   "cell_type": "markdown",
   "id": "dbc43fd6-8209-4a40-a96d-c6243a2b4477",
   "metadata": {},
   "source": [
    "_Objectives:_\n",
    "\n",
    "* List popular languages for Data Science\n",
    "* List popular libraries for Data Science\n",
    "* List of Well Known Data Science Tools\n",
    "* How to give comments in cell"
   ]
  },
  {
   "cell_type": "markdown",
   "id": "fe1577cf-e260-4456-a58d-74ece714ede9",
   "metadata": {},
   "source": [
    "## Author\n",
    "Himadri Roy"
   ]
  },
  {
   "cell_type": "code",
   "execution_count": null,
   "id": "4be203b0-9c17-427d-a10f-bc7cb91570e3",
   "metadata": {},
   "outputs": [],
   "source": []
  }
 ],
 "metadata": {
  "kernelspec": {
   "display_name": "Python 3 (ipykernel)",
   "language": "python",
   "name": "python3"
  },
  "language_info": {
   "codemirror_mode": {
    "name": "ipython",
    "version": 3
   },
   "file_extension": ".py",
   "mimetype": "text/x-python",
   "name": "python",
   "nbconvert_exporter": "python",
   "pygments_lexer": "ipython3",
   "version": "3.11.9"
  }
 },
 "nbformat": 4,
 "nbformat_minor": 5
}
